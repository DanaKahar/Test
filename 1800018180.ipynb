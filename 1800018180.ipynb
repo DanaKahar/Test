{
  "nbformat": 4,
  "nbformat_minor": 0,
  "metadata": {
    "colab": {
      "name": "1800018180.ipynb",
      "provenance": [],
      "authorship_tag": "ABX9TyN/3FVGnxDkAaiS78WBGFHr",
      "include_colab_link": true
    },
    "kernelspec": {
      "name": "python3",
      "display_name": "Python 3"
    }
  },
  "cells": [
    {
      "cell_type": "markdown",
      "metadata": {
        "id": "view-in-github",
        "colab_type": "text"
      },
      "source": [
        "<a href=\"https://colab.research.google.com/github/DanaKahar/Test/blob/master/1800018180.ipynb\" target=\"_parent\"><img src=\"https://colab.research.google.com/assets/colab-badge.svg\" alt=\"Open In Colab\"/></a>"
      ]
    },
    {
      "cell_type": "markdown",
      "metadata": {
        "id": "TuTVvnkXlYt0",
        "colab_type": "text"
      },
      "source": [
        "Nama : Dana Millando Putra\n",
        "NIM  : 1800018180\n",
        "\n",
        "Menghitung Jumlah Rating Tertinggi Hotel di Jepang Berdasarkan Kategori Kebersihan dan Fasilitas"
      ]
    },
    {
      "cell_type": "markdown",
      "metadata": {
        "id": "7OTrLyxOwwPD",
        "colab_type": "text"
      },
      "source": [
        "Persiapan Environment"
      ]
    },
    {
      "cell_type": "code",
      "metadata": {
        "id": "O8epzyCqnatI",
        "colab_type": "code",
        "colab": {}
      },
      "source": [
        "! apt-get install openjdk-8-jdk-headless -qq > /dev/null\n",
        "! wget -q https://downloads.apache.org/spark/spark-2.4.6/spark-2.4.6-bin-hadoop2.7.tgz\n",
        "! tar xf spark-2.4.6-bin-hadoop2.7.tgz\n",
        "! pip install -q findspark"
      ],
      "execution_count": 1,
      "outputs": []
    },
    {
      "cell_type": "code",
      "metadata": {
        "id": "DuXJakdPuRmA",
        "colab_type": "code",
        "colab": {}
      },
      "source": [
        "import os\n",
        "os.environ[\"JAVA_HOME\"] = \"/usr/lib/jvm/java-8-openjdk-amd64\"\n",
        "os.environ[\"SPARK_HOME\"] = \"/content/spark-2.4.5-bin-hadoop2.7\""
      ],
      "execution_count": 2,
      "outputs": []
    },
    {
      "cell_type": "code",
      "metadata": {
        "id": "c4MUoSVzv6Km",
        "colab_type": "code",
        "colab": {}
      },
      "source": [
        "import findspark\n",
        "findspark.init(\"spark-2.4.6-bin-hadoop2.7\")# SPARK_HOME\n",
        "from pyspark.sql import SparkSession\n",
        "spark = SparkSession.builder.master(\"local[*]\").getOrCreate()\n",
        "from pyspark.sql.functions import col, avg\n",
        "\n",
        "!pip install -q pyspark_dist_explore\n",
        "\n",
        "import matplotlib.pyplot as plt\n",
        "from pyspark_dist_explore import Histogram, hist"
      ],
      "execution_count": 3,
      "outputs": []
    },
    {
      "cell_type": "code",
      "metadata": {
        "id": "5650b6mvw_fk",
        "colab_type": "code",
        "colab": {}
      },
      "source": [
        "sc = spark.sparkContext\n",
        "spark = SparkSession(sc)"
      ],
      "execution_count": 4,
      "outputs": []
    },
    {
      "cell_type": "markdown",
      "metadata": {
        "id": "xFOm-VmtxY_B",
        "colab_type": "text"
      },
      "source": [
        " Load Data"
      ]
    },
    {
      "cell_type": "code",
      "metadata": {
        "id": "2aLbYbB6xar7",
        "colab_type": "code",
        "colab": {
          "base_uri": "https://localhost:8080/",
          "height": 306
        },
        "outputId": "e2ff3175-0a2c-4dd5-ac46-680d86c38662"
      },
      "source": [
        "hostel = spark.read.csv(\"Hostel.csv\", header=True, inferSchema=True)\n",
        "hostel.printSchema()            #mengecek schema dari dataset"
      ],
      "execution_count": 10,
      "outputs": [
        {
          "output_type": "stream",
          "text": [
            "root\n",
            " |-- \",\"\"hostel.name\"\": string (nullable = true)\n",
            " |-- \"\"City\"\": string (nullable = true)\n",
            " |-- \"\"price.from\"\": string (nullable = true)\n",
            " |-- \"\"Distance\"\": string (nullable = true)\n",
            " |-- \"\"summary.score\"\": string (nullable = true)\n",
            " |-- \"\"rating.band\"\": string (nullable = true)\n",
            " |-- \"\"atmosphere\"\": string (nullable = true)\n",
            " |-- \"\"cleanliness\"\": double (nullable = true)\n",
            " |-- \"\"facilities\"\": double (nullable = true)\n",
            " |-- \"\"location.y\"\": double (nullable = true)\n",
            " |-- \"\"security\"\": double (nullable = true)\n",
            " |-- \"\"staff\"\": double (nullable = true)\n",
            " |-- \"\"valueformoney\"\": double (nullable = true)\n",
            " |-- \"\"lon\"\": double (nullable = true)\n",
            " |-- \"\"lat\"\"\": string (nullable = true)\n",
            "\n"
          ],
          "name": "stdout"
        }
      ]
    },
    {
      "cell_type": "markdown",
      "metadata": {
        "id": "QgQYsvEB3n4E",
        "colab_type": "text"
      },
      "source": [
        "Pada dataset Hostel Jepang ini terdapat 9 kolom data yaitu :\n",
        "\n",
        "Hostel.name (Nama-nama hostel diJepang)\n",
        "\n",
        "City (Lokasi hotel tersebut berada)\n",
        "\n",
        "Price.from( Harga dari hotel tersebut)\n",
        "\n",
        "Distance( Jarak hotel tersebut dari pusat kota )\n",
        "\n",
        "Summary.Score ( Skor Peringkat dari hotel tersebut )\n",
        "\n",
        "Rating.band ( Peringkat band(Hebat, Memuaskan dll )\n",
        "\n",
        "Atmosphere ( Skor untuk atmosper )\n",
        "\n",
        "Cleanliness ( Skor untuk tingkat kebersihan hotel tersebut )\n",
        "\n",
        "Facilities ( Skor untuk fasilitas hotel tersebut )\n",
        "\n",
        "Pada kasus hostel ini akan dilakukan analisis pada kolom Facilities dan Cleanliness"
      ]
    },
    {
      "cell_type": "markdown",
      "metadata": {
        "id": "02B7uRaHzqKI",
        "colab_type": "text"
      },
      "source": [
        "1. Proses EDA"
      ]
    },
    {
      "cell_type": "code",
      "metadata": {
        "id": "GRmuapXO0ySh",
        "colab_type": "code",
        "colab": {
          "base_uri": "https://localhost:8080/",
          "height": 496
        },
        "outputId": "6f14b1d3-32d4-4fd2-d690-27b2e392d4e5"
      },
      "source": [
        "print(\"Jumlah Hostel:\")\n",
        "hostel.show()"
      ],
      "execution_count": 23,
      "outputs": [
        {
          "output_type": "stream",
          "text": [
            "Jumlah Hostel:\n",
            "+--------------------+----------------+--------------+--------------------+-----------------+---------------+--------------+---------------+--------------+--------------+------------+---------+-----------------+-----------+-----------+\n",
            "|   \",\"\"hostel.name\"\"|        \"\"City\"\"|\"\"price.from\"\"|        \"\"Distance\"\"|\"\"summary.score\"\"|\"\"rating.band\"\"|\"\"atmosphere\"\"|\"\"cleanliness\"\"|\"\"facilities\"\"|\"\"location.y\"\"|\"\"security\"\"|\"\"staff\"\"|\"\"valueformoney\"\"|    \"\"lon\"\"|   \"\"lat\"\"\"|\n",
            "+--------------------+----------------+--------------+--------------------+-----------------+---------------+--------------+---------------+--------------+--------------+------------+---------+-----------------+-----------+-----------+\n",
            "|\"1,\"\"\"\"\"\"Bike & B...|       \"\"Osaka\"\"|          3300|\"\"2.9km from city...|              9.2|     \"\"Superb\"\"|           8.9|            9.4|           9.3|           8.9|         9.0|      9.4|              9.4|135.5137671| 34.682678\"|\n",
            "| \"2,\"\"& And Hostel\"\"|\"\"Fukuoka-City\"\"|          2600|\"\"0.7km from city...|              9.5|     \"\"Superb\"\"|           9.4|            9.7|           9.5|           9.7|         9.2|      9.7|              9.5|135.3452674|35.2443142\"|\n",
            "|\"3,\"\"&And Hostel ...|       \"\"Tokyo\"\"|          3600|\"\"7.8km from city...|              8.7|   \"\"Fabulous\"\"|             8|            7.0|           9.0|           8.0|        10.0|     10.0|              9.0|139.7774724|35.6974473\"|\n",
            "|\"4,\"\"&And Hostel ...|       \"\"Tokyo\"\"|          2600|\"\"8.7km from city...|              7.4|  \"\"Very Good\"\"|             8|            7.5|           7.5|           7.5|         7.0|      8.0|              6.5| 139.783667| 35.712716\"|\n",
            "|\"5,\"\"&And Hostel-...|       \"\"Tokyo\"\"|          1500|\"\"10.5km from cit...|              9.4|     \"\"Superb\"\"|           9.5|            9.5|           9.0|           9.0|         9.5|     10.0|              9.5|139.7983712|35.7278979\"|\n",
            "|\"6,\"\"1night1980ho...|       \"\"Tokyo\"\"|          2100|\"\"9.4km from city...|                7|  \"\"Very Good\"\"|           5.5|            8.0|           6.0|           6.0|         8.5|      8.5|              6.5|139.7869499| 35.724384\"|\n",
            "|\"7,\"\"328 Hostel &...|       \"\"Tokyo\"\"|          3300|\"\"16.5km from cit...|              9.3|     \"\"Superb\"\"|           8.7|            9.7|           9.3|           9.1|         9.3|      9.7|              8.9|139.7454672|35.5480439\"|\n",
            "|     \"8,\"\"36Hostel\"\"|   \"\"Hiroshima\"\"|          2000|\"\"1.6km from city...|              9.5|     \"\"Superb\"\"|           8.8|            9.9|           9.2|           9.6|         9.8|      9.8|              9.5|135.2312365|35.6764451\"|\n",
            "|\"9,\"\"3Q House - A...|       \"\"Tokyo\"\"|          2500|\"\"10.2km from cit...|              9.2|         Superb|           8.5|            8.1|           9.2|           7.0|         6.0|      9.0|              8.0|        7.0|35.8754142\"|\n",
            "|\"10,\"\"Ace Inn Shi...|       \"\"Tokyo\"\"|          2200|\"\"3km from city c...|              7.7|  \"\"Very Good\"\"|           6.7|            7.2|           6.8|           8.5|         7.8|      8.5|              8.1|139.7243036|35.6925119\"|\n",
            "|\"11,\"\"Air Osaka H...|       \"\"Osaka\"\"|          1600|\"\"9.7km from city...|              9.2|     \"\"Superb\"\"|           9.5|            9.1|           8.7|           8.8|         8.9|      9.8|              9.5|135.4769556|34.6222596\"|\n",
            "|  \"12,\"\"Aizuya Inn\"\"|       \"\"Tokyo\"\"|          2000|\"\"10.6km from cit...|              8.5|   \"\"Fabulous\"\"|           8.1|            8.3|           8.4|           7.8|         8.9|      9.1|              8.9| 139.800993| 35.727547\"|\n",
            "|\"13,\"\"Akihabara H...|       \"\"Tokyo\"\"|          2200|\"\"8km from city c...|               10|     \"\"Superb\"\"|            10|           10.0|          10.0|          10.0|        10.0|     10.0|             10.0| 139.779382|35.6974904\"|\n",
            "|\"14,\"\"Almond host...|       \"\"Tokyo\"\"|          2900|\"\"2.2km from city...|              9.3|     \"\"Superb\"\"|           9.1|            9.5|           8.8|           9.5|         9.4|      9.7|              9.0|139.6875352|35.6700092\"|\n",
            "|\"15,\"\"Anne Hostel...|       \"\"Tokyo\"\"|          2000|\"\"8.9km from city...|              9.1|     \"\"Superb\"\"|           8.8|            9.2|           8.7|           9.0|         9.1|      9.5|              9.2|139.7893595|35.6989448\"|\n",
            "|\"16,\"\"Anne Hostel...|       \"\"Tokyo\"\"|          1800|\"\"9.5km from city...|              9.1|     \"\"Superb\"\"|           8.8|            9.1|           9.0|           9.2|         9.3|      9.3|              9.2|139.7967977|35.6954897\"|\n",
            "|  \"17,\"\"Ark Hostel\"\"|       \"\"Osaka\"\"|          2700|\"\"1.9km from city...|                9|     \"\"Superb\"\"|           8.7|            9.2|           8.9|           8.8|         9.1|      9.2|              9.0|103.8731349| 1.3108203\"|\n",
            "| \"18,\"\"ARTnSHELTER\"\"|       \"\"Tokyo\"\"|          2400|\"\"10.5km from cit...|              8.3|   \"\"Fabulous\"\"|           8.2|            8.1|           7.7|           7.9|         9.1|      9.0|              8.3| 139.742108| 35.604242\"|\n",
            "|\"19,\"\"AS House (A...|       \"\"Tokyo\"\"|          1600|\"\"10km from city ...|              7.8|  \"\"Very Good\"\"|           7.9|            6.2|           7.0|           9.0|         8.2|      8.0|              8.3| 139.800616| 35.707363\"|\n",
            "|\"20,\"\"Asakusa Hos...|       \"\"Tokyo\"\"|          1300|\"\"9.3km from city...|              8.9|   \"\"Fabulous\"\"|           7.9|            9.4|           8.3|           9.5|         9.2|      8.9|              9.2|  139.79081| 35.713177\"|\n",
            "+--------------------+----------------+--------------+--------------------+-----------------+---------------+--------------+---------------+--------------+--------------+------------+---------+-----------------+-----------+-----------+\n",
            "only showing top 20 rows\n",
            "\n"
          ],
          "name": "stdout"
        }
      ]
    },
    {
      "cell_type": "markdown",
      "metadata": {
        "id": "ZANUxJQ55182",
        "colab_type": "text"
      },
      "source": [
        "Lihat 8 Data Hotel Di Jepang"
      ]
    },
    {
      "cell_type": "code",
      "metadata": {
        "id": "EOGK9c9G59uK",
        "colab_type": "code",
        "colab": {
          "base_uri": "https://localhost:8080/",
          "height": 275
        },
        "outputId": "6e331d80-c280-4f18-cfa6-76035845d1bf"
      },
      "source": [
        "hostel.show(8)"
      ],
      "execution_count": null,
      "outputs": [
        {
          "output_type": "stream",
          "text": [
            "+--------------------+----------------+--------------+--------------------+-----------------+---------------+--------------+---------------+--------------+--------------+------------+---------+-----------------+-----------+-----------+\n",
            "|   \",\"\"hostel.name\"\"|        \"\"City\"\"|\"\"price.from\"\"|        \"\"Distance\"\"|\"\"summary.score\"\"|\"\"rating.band\"\"|\"\"atmosphere\"\"|\"\"cleanliness\"\"|\"\"facilities\"\"|\"\"location.y\"\"|\"\"security\"\"|\"\"staff\"\"|\"\"valueformoney\"\"|    \"\"lon\"\"|   \"\"lat\"\"\"|\n",
            "+--------------------+----------------+--------------+--------------------+-----------------+---------------+--------------+---------------+--------------+--------------+------------+---------+-----------------+-----------+-----------+\n",
            "|\"1,\"\"\"\"\"\"Bike & B...|       \"\"Osaka\"\"|          3300|\"\"2.9km from city...|              9.2|     \"\"Superb\"\"|           8.9|            9.4|           9.3|           8.9|         9.0|      9.4|              9.4|135.5137671| 34.682678\"|\n",
            "| \"2,\"\"& And Hostel\"\"|\"\"Fukuoka-City\"\"|          2600|\"\"0.7km from city...|              9.5|     \"\"Superb\"\"|           9.4|            9.7|           9.5|           9.7|         9.2|      9.7|              9.5|135.3452674|35.2443142\"|\n",
            "|\"3,\"\"&And Hostel ...|       \"\"Tokyo\"\"|          3600|\"\"7.8km from city...|              8.7|   \"\"Fabulous\"\"|             8|            7.0|           9.0|           8.0|        10.0|     10.0|              9.0|139.7774724|35.6974473\"|\n",
            "|\"4,\"\"&And Hostel ...|       \"\"Tokyo\"\"|          2600|\"\"8.7km from city...|              7.4|  \"\"Very Good\"\"|             8|            7.5|           7.5|           7.5|         7.0|      8.0|              6.5| 139.783667| 35.712716\"|\n",
            "|\"5,\"\"&And Hostel-...|       \"\"Tokyo\"\"|          1500|\"\"10.5km from cit...|              9.4|     \"\"Superb\"\"|           9.5|            9.5|           9.0|           9.0|         9.5|     10.0|              9.5|139.7983712|35.7278979\"|\n",
            "|\"6,\"\"1night1980ho...|       \"\"Tokyo\"\"|          2100|\"\"9.4km from city...|                7|  \"\"Very Good\"\"|           5.5|            8.0|           6.0|           6.0|         8.5|      8.5|              6.5|139.7869499| 35.724384\"|\n",
            "|\"7,\"\"328 Hostel &...|       \"\"Tokyo\"\"|          3300|\"\"16.5km from cit...|              9.3|     \"\"Superb\"\"|           8.7|            9.7|           9.3|           9.1|         9.3|      9.7|              8.9|139.7454672|35.5480439\"|\n",
            "|     \"8,\"\"36Hostel\"\"|   \"\"Hiroshima\"\"|          2000|\"\"1.6km from city...|              9.5|     \"\"Superb\"\"|           8.8|            9.9|           9.2|           9.6|         9.8|      9.8|              9.5|135.2312365|35.6764451\"|\n",
            "+--------------------+----------------+--------------+--------------------+-----------------+---------------+--------------+---------------+--------------+--------------+------------+---------+-----------------+-----------+-----------+\n",
            "only showing top 8 rows\n",
            "\n"
          ],
          "name": "stdout"
        }
      ]
    },
    {
      "cell_type": "markdown",
      "metadata": {
        "id": "5y_yVjmK6QrW",
        "colab_type": "text"
      },
      "source": [
        "Statistik Data"
      ]
    },
    {
      "cell_type": "code",
      "metadata": {
        "id": "Pa8mQ3X67FRh",
        "colab_type": "code",
        "colab": {
          "base_uri": "https://localhost:8080/",
          "height": 207
        },
        "outputId": "9ef64bb8-2885-43b7-ccf7-d1d8a16beac3"
      },
      "source": [
        "\n",
        "hostel.describe().show()"
      ],
      "execution_count": null,
      "outputs": [
        {
          "output_type": "stream",
          "text": [
            "+-------+--------------------+------------------+-----------------+--------------------+--------------------+---------------+------------------+------------------+------------------+-----------------+------------------+-----------------+------------------+-----------------+----------+\n",
            "|summary|   \",\"\"hostel.name\"\"|          \"\"City\"\"|   \"\"price.from\"\"|        \"\"Distance\"\"|   \"\"summary.score\"\"|\"\"rating.band\"\"|    \"\"atmosphere\"\"|   \"\"cleanliness\"\"|    \"\"facilities\"\"|   \"\"location.y\"\"|      \"\"security\"\"|        \"\"staff\"\"| \"\"valueformoney\"\"|          \"\"lon\"\"|  \"\"lat\"\"\"|\n",
            "+-------+--------------------+------------------+-----------------+--------------------+--------------------+---------------+------------------+------------------+------------------+-----------------+------------------+-----------------+------------------+-----------------+----------+\n",
            "|  count|                 342|               342|              342|                 342|                 342|            342|               342|               342|               342|              342|               342|              342|               342|              342|       342|\n",
            "|   mean|                null|              null|8393.548387096775|              6500.0|   8.783870967741933|            9.4| 8.230498533724344| 8.938596491228065|  8.50175438596491|8.600000000000003| 8.882456140350879|9.028070175438598| 8.793567251461985|135.8358407301461|135.505474|\n",
            "| stddev|                null|              null|76527.49651569787|                 NaN|  0.9464815499935422|            NaN|1.3649206131291678|1.2693436158118552|1.3824400920540953|1.226706722963652|1.1839527424315373|1.235342836899836|1.1016727456792608|10.28741806615689|       NaN|\n",
            "|    min|\"1,\"\"\"\"\"\"Bike & B...| Namba Dotombori\"\"|        \"\"Osaka\"\"|\"\"0.3km from city...|\"\"4.2km from city...|   \"\"Fabulous\"\"|        \"\"Superb\"\"|               2.0|               2.0|              2.0|               2.0|              2.0|               4.0|              7.0|1.3108203\"|\n",
            "|    max|\"99,\"\"Guest House...|         \"\"Tokyo\"\"|             7600|                6500|                 9.9|         Superb|               9.8|              10.0|              10.0|             10.0|              10.0|             10.0|              10.0|      139.8778804|36.204824\"|\n",
            "+-------+--------------------+------------------+-----------------+--------------------+--------------------+---------------+------------------+------------------+------------------+-----------------+------------------+-----------------+------------------+-----------------+----------+\n",
            "\n"
          ],
          "name": "stdout"
        }
      ]
    },
    {
      "cell_type": "markdown",
      "metadata": {
        "id": "Tq9_znulRN_s",
        "colab_type": "text"
      },
      "source": [
        "Pada kolom hostel.name, city, distances, dan rating band hasilnya null. Karena data tersebut bukan berisi angka namun berisi string, kenapa hasilnya null karena string tidak dapat dalam proses mean dan sttdev"
      ]
    },
    {
      "cell_type": "markdown",
      "metadata": {
        "id": "TbfWYBCrS-VS",
        "colab_type": "text"
      },
      "source": [
        "Persebaran Data"
      ]
    },
    {
      "cell_type": "code",
      "metadata": {
        "id": "C6JmKaAqTw0O",
        "colab_type": "code",
        "colab": {
          "base_uri": "https://localhost:8080/",
          "height": 334
        },
        "outputId": "48e4d14d-b5bf-4706-ee2d-41fe5c432db1"
      },
      "source": [
        "hostel_cleanliness = hostel.select('\"\"cleanliness\"\"')\n",
        "\n",
        "fig, axes = plt.subplots()\n",
        "fig.set_size_inches(8, 5)\n",
        "hist(axes, hostel_cleanliness, color=\"red\")\n",
        "plt.xlabel('Rating Kebersihan (cleanliness)')\n",
        "plt.ylabel('')\n",
        "\n",
        "plt.show()"
      ],
      "execution_count": null,
      "outputs": [
        {
          "output_type": "display_data",
          "data": {
            "image/png": "[encoded data removed]",
            "text/plain": [
              "<Figure size 576x360 with 1 Axes>"
            ]
          },
          "metadata": {
            "tags": [],
            "needs_background": "light"
          }
        }
      ]
    },
    {
      "cell_type": "markdown",
      "metadata": {
        "id": "NJ14nhMkl4_I",
        "colab_type": "text"
      },
      "source": [
        "2. PRE PROSESSING\n"
      ]
    },
    {
      "cell_type": "code",
      "metadata": {
        "id": "KrPwRXCul60I",
        "colab_type": "code",
        "colab": {
          "base_uri": "https://localhost:8080/",
          "height": 309
        },
        "outputId": "15c7a61e-0d4b-4477-b07f-5e82e0498390"
      },
      "source": [
        "\n",
        "# seleksi data\n",
        "Hostel = hostel.select('\"\"cleanliness\"\"', '\"\"facilities\"\"')\n",
        "\n",
        "# tampilkan 10 data teratas\n",
        "hostel.show(10)"
      ],
      "execution_count": 22,
      "outputs": [
        {
          "output_type": "stream",
          "text": [
            "+--------------------+----------------+--------------+--------------------+-----------------+---------------+--------------+---------------+--------------+--------------+------------+---------+-----------------+-----------+-----------+\n",
            "|   \",\"\"hostel.name\"\"|        \"\"City\"\"|\"\"price.from\"\"|        \"\"Distance\"\"|\"\"summary.score\"\"|\"\"rating.band\"\"|\"\"atmosphere\"\"|\"\"cleanliness\"\"|\"\"facilities\"\"|\"\"location.y\"\"|\"\"security\"\"|\"\"staff\"\"|\"\"valueformoney\"\"|    \"\"lon\"\"|   \"\"lat\"\"\"|\n",
            "+--------------------+----------------+--------------+--------------------+-----------------+---------------+--------------+---------------+--------------+--------------+------------+---------+-----------------+-----------+-----------+\n",
            "|\"1,\"\"\"\"\"\"Bike & B...|       \"\"Osaka\"\"|          3300|\"\"2.9km from city...|              9.2|     \"\"Superb\"\"|           8.9|            9.4|           9.3|           8.9|         9.0|      9.4|              9.4|135.5137671| 34.682678\"|\n",
            "| \"2,\"\"& And Hostel\"\"|\"\"Fukuoka-City\"\"|          2600|\"\"0.7km from city...|              9.5|     \"\"Superb\"\"|           9.4|            9.7|           9.5|           9.7|         9.2|      9.7|              9.5|135.3452674|35.2443142\"|\n",
            "|\"3,\"\"&And Hostel ...|       \"\"Tokyo\"\"|          3600|\"\"7.8km from city...|              8.7|   \"\"Fabulous\"\"|             8|            7.0|           9.0|           8.0|        10.0|     10.0|              9.0|139.7774724|35.6974473\"|\n",
            "|\"4,\"\"&And Hostel ...|       \"\"Tokyo\"\"|          2600|\"\"8.7km from city...|              7.4|  \"\"Very Good\"\"|             8|            7.5|           7.5|           7.5|         7.0|      8.0|              6.5| 139.783667| 35.712716\"|\n",
            "|\"5,\"\"&And Hostel-...|       \"\"Tokyo\"\"|          1500|\"\"10.5km from cit...|              9.4|     \"\"Superb\"\"|           9.5|            9.5|           9.0|           9.0|         9.5|     10.0|              9.5|139.7983712|35.7278979\"|\n",
            "|\"6,\"\"1night1980ho...|       \"\"Tokyo\"\"|          2100|\"\"9.4km from city...|                7|  \"\"Very Good\"\"|           5.5|            8.0|           6.0|           6.0|         8.5|      8.5|              6.5|139.7869499| 35.724384\"|\n",
            "|\"7,\"\"328 Hostel &...|       \"\"Tokyo\"\"|          3300|\"\"16.5km from cit...|              9.3|     \"\"Superb\"\"|           8.7|            9.7|           9.3|           9.1|         9.3|      9.7|              8.9|139.7454672|35.5480439\"|\n",
            "|     \"8,\"\"36Hostel\"\"|   \"\"Hiroshima\"\"|          2000|\"\"1.6km from city...|              9.5|     \"\"Superb\"\"|           8.8|            9.9|           9.2|           9.6|         9.8|      9.8|              9.5|135.2312365|35.6764451\"|\n",
            "|\"9,\"\"3Q House - A...|       \"\"Tokyo\"\"|          2500|\"\"10.2km from cit...|              9.2|         Superb|           8.5|            8.1|           9.2|           7.0|         6.0|      9.0|              8.0|        7.0|35.8754142\"|\n",
            "|\"10,\"\"Ace Inn Shi...|       \"\"Tokyo\"\"|          2200|\"\"3km from city c...|              7.7|  \"\"Very Good\"\"|           6.7|            7.2|           6.8|           8.5|         7.8|      8.5|              8.1|139.7243036|35.6925119\"|\n",
            "+--------------------+----------------+--------------+--------------------+-----------------+---------------+--------------+---------------+--------------+--------------+------------+---------+-----------------+-----------+-----------+\n",
            "only showing top 10 rows\n",
            "\n"
          ],
          "name": "stdout"
        }
      ]
    },
    {
      "cell_type": "markdown",
      "metadata": {
        "id": "nx_sFISrmtzM",
        "colab_type": "text"
      },
      "source": [
        "3. PEMROSESAN DATA"
      ]
    },
    {
      "cell_type": "markdown",
      "metadata": {
        "id": "PXtPNgx3nO__",
        "colab_type": "text"
      },
      "source": [
        "\n",
        "Pada pemrosesan data ini akan dianalisis Jumlah Rating Tertinggi Hotel di Jepang Berdasarkan Kategori Kebersihan dan Fasilitas"
      ]
    },
    {
      "cell_type": "markdown",
      "metadata": {
        "id": "alNYit6WLNSI",
        "colab_type": "text"
      },
      "source": [
        "Pada pemrosesan data Rating Tertinggi berdasarkan kategori kebersihan"
      ]
    },
    {
      "cell_type": "code",
      "metadata": {
        "id": "N-Cz1vR9K4ar",
        "colab_type": "code",
        "colab": {
          "base_uri": "https://localhost:8080/",
          "height": 289
        },
        "outputId": "09320cd2-7c71-4687-933b-698382dae1e6"
      },
      "source": [
        "hostel_cleanliness.orderBy('\"\"cleanliness\"\"', ascending=False).show(10)"
      ],
      "execution_count": null,
      "outputs": [
        {
          "output_type": "stream",
          "text": [
            "+---------------+\n",
            "|\"\"cleanliness\"\"|\n",
            "+---------------+\n",
            "|           10.0|\n",
            "|           10.0|\n",
            "|           10.0|\n",
            "|           10.0|\n",
            "|           10.0|\n",
            "|           10.0|\n",
            "|           10.0|\n",
            "|           10.0|\n",
            "|           10.0|\n",
            "|           10.0|\n",
            "+---------------+\n",
            "only showing top 10 rows\n",
            "\n"
          ],
          "name": "stdout"
        }
      ]
    },
    {
      "cell_type": "markdown",
      "metadata": {
        "id": "K90G3YVGMwhX",
        "colab_type": "text"
      },
      "source": [
        "Pada pemrosesan data Rating Terendah berdasarkan kategori kebersihan"
      ]
    },
    {
      "cell_type": "code",
      "metadata": {
        "id": "EHMZRXZ-M1_3",
        "colab_type": "code",
        "colab": {
          "base_uri": "https://localhost:8080/",
          "height": 289
        },
        "outputId": "cb7ada08-6da9-4a00-def7-b3b05a40bd12"
      },
      "source": [
        "hostel_cleanliness.orderBy('\"\"cleanliness\"\"', ascending=True).show(10)"
      ],
      "execution_count": null,
      "outputs": [
        {
          "output_type": "stream",
          "text": [
            "+---------------+\n",
            "|\"\"cleanliness\"\"|\n",
            "+---------------+\n",
            "|            2.0|\n",
            "|            3.3|\n",
            "|            4.0|\n",
            "|            4.0|\n",
            "|            4.0|\n",
            "|            4.0|\n",
            "|            5.0|\n",
            "|            5.1|\n",
            "|            5.8|\n",
            "|            6.0|\n",
            "+---------------+\n",
            "only showing top 10 rows\n",
            "\n"
          ],
          "name": "stdout"
        }
      ]
    },
    {
      "cell_type": "markdown",
      "metadata": {
        "id": "WmqyuIXxQylq",
        "colab_type": "text"
      },
      "source": [
        "Pada pemrosesan data Rating Tertinggi berdasarkan kategori Fasilitas"
      ]
    },
    {
      "cell_type": "code",
      "metadata": {
        "id": "CQAGj1cgQ2X3",
        "colab_type": "code",
        "colab": {
          "base_uri": "https://localhost:8080/",
          "height": 309
        },
        "outputId": "af3c8784-f561-4528-a778-cc7303ecc260"
      },
      "source": [
        "hostel.orderBy('\"\"facilities\"\"', ascending=False).show(10)"
      ],
      "execution_count": 19,
      "outputs": [
        {
          "output_type": "stream",
          "text": [
            "+--------------------+---------+--------------+--------------------+-----------------+---------------+--------------+---------------+--------------+--------------+------------+---------+-----------------+------------+-----------+\n",
            "|   \",\"\"hostel.name\"\"| \"\"City\"\"|\"\"price.from\"\"|        \"\"Distance\"\"|\"\"summary.score\"\"|\"\"rating.band\"\"|\"\"atmosphere\"\"|\"\"cleanliness\"\"|\"\"facilities\"\"|\"\"location.y\"\"|\"\"security\"\"|\"\"staff\"\"|\"\"valueformoney\"\"|     \"\"lon\"\"|   \"\"lat\"\"\"|\n",
            "+--------------------+---------+--------------+--------------------+-----------------+---------------+--------------+---------------+--------------+--------------+------------+---------+-----------------+------------+-----------+\n",
            "|\"77,\"\"Goen Lounge...|\"\"Osaka\"\"|          2000|\"\"18.2km from cit...|              8.9|   \"\"Fabulous\"\"|             8|           10.0|          10.0|           6.0|         8.0|     10.0|             10.0| 135.6505111| 34.815565\"|\n",
            "|\"143,\"\"Hostel HAR...|\"\"Kyoto\"\"|          1500|\"\"1km from city c...|              9.6|     \"\"Superb\"\"|             8|           10.0|          10.0|          10.0|        10.0|     10.0|              9.0|  135.778964| 35.008755\"|\n",
            "|\"89,\"\"Guest House...|\"\"Kyoto\"\"|          3200|\"\"3.2km from city...|               10|     \"\"Superb\"\"|            10|           10.0|          10.0|          10.0|        10.0|     10.0|             10.0| 135.7435285|34.9915805\"|\n",
            "|\"37,\"\"Bonfire Hos...|\"\"Osaka\"\"|          1800|\"\"9.5km from city...|              9.2|     \"\"Superb\"\"|           7.6|            9.6|          10.0|           8.0|         9.6|     10.0|              9.6|  135.506891| 34.621308\"|\n",
            "|\"97,\"\"Guest House...|\"\"Osaka\"\"|          2000|\"\"3.3km from city...|              9.4|     \"\"Superb\"\"|           9.5|           10.0|          10.0|           8.0|         9.0|     10.0|              9.5| 135.5376482|34.7025957\"|\n",
            "|\"47,\"\"Capsule Hot...|\"\"Osaka\"\"|          3000|\"\"4km from city c...|              9.9|     \"\"Superb\"\"|            10|           10.0|          10.0|          10.0|        10.0|     10.0|              9.0|  135.497847|34.6707858\"|\n",
            "|\"135,\"\"Hostel Cha...|\"\"Tokyo\"\"|          2700|\"\"9.8km from city...|               10|     \"\"Superb\"\"|            10|           10.0|          10.0|          10.0|        10.0|     10.0|             10.0|  139.797217| 35.709305\"|\n",
            "| \"71,\"\"Friends Kyo\"\"|\"\"Kyoto\"\"|          2200|\"\"1.2km from city...|               10|     \"\"Superb\"\"|            10|           10.0|          10.0|          10.0|        10.0|     10.0|             10.0|    135.7718| 35.001371\"|\n",
            "|\"101,\"\"Guest Hous...|\"\"Kyoto\"\"|          1500|\"\"2km from city c...|              8.9|   \"\"Fabulous\"\"|             6|            8.0|          10.0|           9.0|        10.0|      9.0|             10.0|  135.759117| 34.994889\"|\n",
            "|\"128,\"\"Home Hoste...|\"\"Osaka\"\"|          2700|\"\"6.2km from city...|              9.7|     \"\"Superb\"\"|           8.7|            9.9|          10.0|           9.7|         9.9|      9.7|              9.7|135.37436473|35.3627364\"|\n",
            "+--------------------+---------+--------------+--------------------+-----------------+---------------+--------------+---------------+--------------+--------------+------------+---------+-----------------+------------+-----------+\n",
            "only showing top 10 rows\n",
            "\n"
          ],
          "name": "stdout"
        }
      ]
    },
    {
      "cell_type": "markdown",
      "metadata": {
        "id": "lu-BjlZ6lR_7",
        "colab_type": "text"
      },
      "source": [
        "Dari analisis pemrosesan diatas didapat, rating tertinggi pada kategori fasilitas yaitu:\n",
        "1. Goen Lounge memiliki rating 10\n",
        "2.Hostel HAR memiliki rating 10\n",
        "3.Guest House memiliki rating 10\n",
        "4. dst"
      ]
    },
    {
      "cell_type": "code",
      "metadata": {
        "id": "81lybc56lGB5",
        "colab_type": "code",
        "colab": {}
      },
      "source": [
        "Pada pemrosesan data Rating Terendah berdasarkan kategori Fasilitas"
      ],
      "execution_count": null,
      "outputs": []
    },
    {
      "cell_type": "code",
      "metadata": {
        "id": "u4vCNX6HlK3F",
        "colab_type": "code",
        "colab": {
          "base_uri": "https://localhost:8080/",
          "height": 309
        },
        "outputId": "246b3dfe-2aec-4b31-eea5-26141d1cb5c6"
      },
      "source": [
        "hostel.orderBy('\"\"facilities\"\"', ascending=True).show(10)"
      ],
      "execution_count": 20,
      "outputs": [
        {
          "output_type": "stream",
          "text": [
            "+--------------------+----------------+--------------+--------------------+-----------------+---------------+--------------+---------------+--------------+--------------+------------+---------+-----------------+------------+-----------+\n",
            "|   \",\"\"hostel.name\"\"|        \"\"City\"\"|\"\"price.from\"\"|        \"\"Distance\"\"|\"\"summary.score\"\"|\"\"rating.band\"\"|\"\"atmosphere\"\"|\"\"cleanliness\"\"|\"\"facilities\"\"|\"\"location.y\"\"|\"\"security\"\"|\"\"staff\"\"|\"\"valueformoney\"\"|     \"\"lon\"\"|   \"\"lat\"\"\"|\n",
            "+--------------------+----------------+--------------+--------------------+-----------------+---------------+--------------+---------------+--------------+--------------+------------+---------+-----------------+------------+-----------+\n",
            "|\"291,\"\"Shibamata ...|       \"\"Tokyo\"\"|          3000|\"\"18.5km from cit...|              4.9|     \"\"Rating\"\"|             2|            4.0|           2.0|           2.0|        10.0|     10.0|              4.0| 139.8778804|35.7597827\"|\n",
            "|\"235,\"\"Nagomi-Ryo...|       \"\"Kyoto\"\"|          3100|\"\"2.2km from city...|              5.1|     \"\"Rating\"\"|             6|            6.0|           2.0|           8.0|         6.0|      2.0|              6.0|  135.755793|  34.99419\"|\n",
            "|\"68,\"\"Ezstay Osaka\"\"|       \"\"Osaka\"\"|          2000|\"\"4.6km from city...|              3.1|     \"\"Rating\"\"|             2|            2.0|           2.0|           4.0|         6.0|      2.0|              4.0|  135.535271|34.6757318\"|\n",
            "|\"36,\"\"bnb+Shinjuk...|       \"\"Tokyo\"\"|          2500|\"\"1.3km from city...|                5|     \"\"Rating\"\"|           2.7|            4.0|           3.3|           7.3|         5.3|      5.3|              6.7|135.83927452|35.2537284\"|\n",
            "|\"35,\"\"bnb+ Ninja ...|       \"\"Tokyo\"\"|          2500|\"\"8km from city c...|              5.2|     \"\"Rating\"\"|             4|            3.3|           4.0|           8.7|         5.3|      4.7|              6.7| 135.7352637| 35.211435\"|\n",
            "|\"127,\"\"Hisayo's I...|       \"\"Tokyo\"\"|          3800|\"\"15.7km from cit...|                9|         Superb|             9|            7.0|           4.0|           6.0|         9.0|      5.0|              6.0| 135.3647633|35.3745364\"|\n",
            "|\"306,\"\"The Dorm H...|       \"\"Osaka\"\"|          3800|\"\"3.6km from city...|                9|         Superb|             9|            7.0|           4.0|           8.0|         6.0|      9.0|              7.0| 135.3736253|35.3725342\"|\n",
            "|\"281,\"\"Sakura Gue...|       \"\"Osaka\"\"|          2700|\"\"4.3km from city...|              4.9|     \"\"Rating\"\"|             4|            4.0|           4.0|           8.0|         4.0|      6.0|              4.0| 137.2414859| 36.135716\"|\n",
            "|\"158,\"\"Hostel Sta...|\"\"Fukuoka-City\"\"|          4000|\"\"1.6km from city...|                9|         Superb|             9|            7.0|           4.0|           8.0|         6.0|      9.0|              7.0| 135.3745353|35.3735466\"|\n",
            "|\"321,\"\"Tokyo Hutte\"\"|       \"\"Tokyo\"\"|          3000|\"\"11.3km from cit...|              7.1|  \"\"Very Good\"\"|             8|            6.0|           4.0|           8.0|        10.0|      8.0|              6.0| 139.8150041|35.7088828\"|\n",
            "+--------------------+----------------+--------------+--------------------+-----------------+---------------+--------------+---------------+--------------+--------------+------------+---------+-----------------+------------+-----------+\n",
            "only showing top 10 rows\n",
            "\n"
          ],
          "name": "stdout"
        }
      ]
    },
    {
      "cell_type": "markdown",
      "metadata": {
        "id": "BmmhVaAHluDV",
        "colab_type": "text"
      },
      "source": [
        "Pada analisis pemrosesan data pada rating terendah kategori facilitas yaitu:\n",
        "1. Shibamata memili rating 2.0\n",
        "2. Nagomi-Ryo memiliki rating 2.0\n",
        "3. Ezstay Osaka memiliki rating 2.0\n",
        "4. bnb+Shinjuk memiliki rating 3.3\n",
        "5. dst\n"
      ]
    },
    {
      "cell_type": "code",
      "metadata": {
        "id": "WC4ejkLqNJI1",
        "colab_type": "code",
        "colab": {}
      },
      "source": [
        "4. VISUALISASI DATA"
      ],
      "execution_count": null,
      "outputs": []
    },
    {
      "cell_type": "code",
      "metadata": {
        "id": "SvI7HflNOOkM",
        "colab_type": "code",
        "colab": {
          "base_uri": "https://localhost:8080/",
          "height": 550
        },
        "outputId": "d984e2e6-8381-45f5-e444-43316517beca"
      },
      "source": [
        "# 10 Hotel Teratas\n",
        "fig, axes = plt.subplots()\n",
        "\n",
        "fig.set_size_inches(7, 5)\n",
        "plt.title('10 Hotel Jepang Dengan Rating Teratas')\n",
        "plt.bar('Tertinggi', hostel_tertinggi, color='red')\n",
        "plt.bar('Terendah', hostel_terendah, color='yellow')\n",
        "print('\\n')"
      ],
      "execution_count": null,
      "outputs": [
        {
          "output_type": "error",
          "ename": "NameError",
          "evalue": "ignored",
          "traceback": [
            "\u001b[0;31m---------------------------------------------------------------------------\u001b[0m",
            "\u001b[0;31mNameError\u001b[0m                                 Traceback (most recent call last)",
            "\u001b[0;32m<ipython-input-80-b2570612c06c>\u001b[0m in \u001b[0;36m<module>\u001b[0;34m()\u001b[0m\n\u001b[1;32m      4\u001b[0m \u001b[0mfig\u001b[0m\u001b[0;34m.\u001b[0m\u001b[0mset_size_inches\u001b[0m\u001b[0;34m(\u001b[0m\u001b[0;36m7\u001b[0m\u001b[0;34m,\u001b[0m \u001b[0;36m5\u001b[0m\u001b[0;34m)\u001b[0m\u001b[0;34m\u001b[0m\u001b[0;34m\u001b[0m\u001b[0m\n\u001b[1;32m      5\u001b[0m \u001b[0mplt\u001b[0m\u001b[0;34m.\u001b[0m\u001b[0mtitle\u001b[0m\u001b[0;34m(\u001b[0m\u001b[0;34m'10 Hotel Jepang Dengan Rating Teratas'\u001b[0m\u001b[0;34m)\u001b[0m\u001b[0;34m\u001b[0m\u001b[0;34m\u001b[0m\u001b[0m\n\u001b[0;32m----> 6\u001b[0;31m \u001b[0mplt\u001b[0m\u001b[0;34m.\u001b[0m\u001b[0mbar\u001b[0m\u001b[0;34m(\u001b[0m\u001b[0;34m'Tertinggi'\u001b[0m\u001b[0;34m,\u001b[0m \u001b[0mhostel_tertinggi\u001b[0m\u001b[0;34m,\u001b[0m \u001b[0mcolor\u001b[0m\u001b[0;34m=\u001b[0m\u001b[0;34m'red'\u001b[0m\u001b[0;34m)\u001b[0m\u001b[0;34m\u001b[0m\u001b[0;34m\u001b[0m\u001b[0m\n\u001b[0m\u001b[1;32m      7\u001b[0m \u001b[0mplt\u001b[0m\u001b[0;34m.\u001b[0m\u001b[0mbar\u001b[0m\u001b[0;34m(\u001b[0m\u001b[0;34m'Terendah'\u001b[0m\u001b[0;34m,\u001b[0m \u001b[0mhostel_terendah\u001b[0m\u001b[0;34m,\u001b[0m \u001b[0mcolor\u001b[0m\u001b[0;34m=\u001b[0m\u001b[0;34m'yellow'\u001b[0m\u001b[0;34m)\u001b[0m\u001b[0;34m\u001b[0m\u001b[0;34m\u001b[0m\u001b[0m\n\u001b[1;32m      8\u001b[0m \u001b[0mprint\u001b[0m\u001b[0;34m(\u001b[0m\u001b[0;34m'\\n'\u001b[0m\u001b[0;34m)\u001b[0m\u001b[0;34m\u001b[0m\u001b[0;34m\u001b[0m\u001b[0m\n",
            "\u001b[0;31mNameError\u001b[0m: name 'hostel_tertinggi' is not defined"
          ]
        },
        {
          "output_type": "display_data",
          "data": {
            "image/png": "[encoded data removed]",
            "text/plain": [
              "<Figure size 504x360 with 1 Axes>"
            ]
          },
          "metadata": {
            "tags": [],
            "needs_background": "light"
          }
        }
      ]
    }
  ]
}